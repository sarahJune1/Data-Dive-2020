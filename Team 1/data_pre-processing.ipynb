{
 "cells": [
  {
   "cell_type": "code",
   "execution_count": 1,
   "metadata": {},
   "outputs": [],
   "source": [
    "import pandas as pd\n",
    "import numpy as np"
   ]
  },
  {
   "cell_type": "code",
   "execution_count": 2,
   "metadata": {},
   "outputs": [],
   "source": [
    "data = pd.read_csv('data-FJ2.csv')\n",
    "data = data.dropna(subset=['OCU Name'])"
   ]
  },
  {
   "cell_type": "code",
   "execution_count": 3,
   "metadata": {},
   "outputs": [],
   "source": [
    "from collections import Counter\n",
    "boroughs = list(Counter(data['OCU Name']))"
   ]
  },
  {
   "cell_type": "code",
   "execution_count": 5,
   "metadata": {},
   "outputs": [],
   "source": [
    "crime = pd.DataFrame(columns=list(data.columns)[2:])\n",
    "crime['total'] = 0\n",
    "crime['name'] = ''\n",
    "crime['year'] = ''"
   ]
  },
  {
   "cell_type": "code",
   "execution_count": 6,
   "metadata": {},
   "outputs": [
    {
     "name": "stdout",
     "output_type": "stream",
     "text": [
      "72\n",
      "72\n",
      "72\n",
      "72\n",
      "72\n",
      "72\n",
      "72\n",
      "72\n",
      "72\n",
      "72\n",
      "72\n",
      "72\n",
      "72\n",
      "72\n",
      "72\n",
      "72\n",
      "72\n",
      "72\n",
      "72\n",
      "72\n",
      "72\n",
      "72\n",
      "72\n",
      "72\n",
      "72\n",
      "72\n",
      "72\n",
      "72\n",
      "72\n",
      "72\n",
      "72\n",
      "72\n",
      "72\n"
     ]
    }
   ],
   "source": [
    "years = ['2014','2015','2016','2017','2018','2019']\n",
    "for i in range(len(boroughs)):\n",
    "    sample = data.loc[data['OCU Name'] == boroughs[i]]\n",
    "    print(len(sample))\n",
    "    for j in range(6):\n",
    "        sub = sample.iloc[0+j*12:12+j*12]\n",
    "#        print(sub)\n",
    "        v1 = sum(sub['Total Theft Person Offs'])\n",
    "        v2 = sum(sub['Total Burglary Offs'])\n",
    "        v3 = sum(sub['Theft Taking of MV Offs'])\n",
    "        v4 = sum(sub['Theft from MV Offs'])\n",
    "        v5 = sum(sub['Personal Property Offs'])\n",
    "        v6 = sum(sub['Common Assault Offs'])\n",
    "        v7 = sum(sub['ASB Calls'])\n",
    "        total = v1 + v2 + v3 + v4 + v5 + v6 + v7\n",
    "        one = {'Total Theft Person Offs':v1,'Total Criminal Damage Offs':0,\n",
    "              'Total Burglary Offs':v2,'TNO Offs':0,'Theft Taking of MV Offs':v3,\n",
    "               'Theft from Shops Offs':0,'Theft from MV Offs':v4,'Personal Property Offs':v5,\n",
    "              'Non Domestic Abuse VWI Offs':0,'Harassment Offs':0,'Common Assault Offs':v6,\n",
    "               'ASB Calls':v7,'total':total,'name':boroughs[i],'year':years[j]}\n",
    "        crime = crime.append([one])\n",
    "        "
   ]
  },
  {
   "cell_type": "code",
   "execution_count": 7,
   "metadata": {},
   "outputs": [],
   "source": [
    "crime.to_csv('crime_cleaned.csv')"
   ]
  }
 ],
 "metadata": {
  "kernelspec": {
   "display_name": "cusplondon",
   "language": "python",
   "name": "cusplondon"
  },
  "language_info": {
   "codemirror_mode": {
    "name": "ipython",
    "version": 3
   },
   "file_extension": ".py",
   "mimetype": "text/x-python",
   "name": "python",
   "nbconvert_exporter": "python",
   "pygments_lexer": "ipython3",
   "version": "3.7.6"
  }
 },
 "nbformat": 4,
 "nbformat_minor": 4
}
